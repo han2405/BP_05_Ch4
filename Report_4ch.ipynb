{
  "nbformat": 4,
  "nbformat_minor": 0,
  "metadata": {
    "colab": {
      "provenance": [],
      "authorship_tag": "ABX9TyP73mx2XVGvWLbqVYRb+JPY",
      "include_colab_link": true
    },
    "kernelspec": {
      "name": "python3",
      "display_name": "Python 3"
    },
    "language_info": {
      "name": "python"
    }
  },
  "cells": [
    {
      "cell_type": "markdown",
      "metadata": {
        "id": "view-in-github",
        "colab_type": "text"
      },
      "source": [
        "<a href=\"https://colab.research.google.com/github/han2405/BP_05_Ch4/blob/main/Report_4ch.ipynb\" target=\"_parent\"><img src=\"https://colab.research.google.com/assets/colab-badge.svg\" alt=\"Open In Colab\"/></a>"
      ]
    },
    {
      "cell_type": "markdown",
      "source": [
        "<pre>\n",
        "1번 문제\n",
        " 왜 다음과 같은 수식이 오류를 발생시키는가> 올바르게 수정하라. \n",
        "\n",
        "' 나는 '+ 12 + '개의 사과를 먹었다.'"
      ],
      "metadata": {
        "id": "90Eo4XhzszD_"
      }
    },
    {
      "cell_type": "code",
      "execution_count": null,
      "metadata": {
        "colab": {
          "base_uri": "https://localhost:8080/"
        },
        "id": "jLKaWFWTsFUE",
        "outputId": "2f02bd61-4fe6-44a5-9312-3ef7993a8813"
      },
      "outputs": [
        {
          "output_type": "stream",
          "name": "stdout",
          "text": [
            "나는 12 개의 사과를 먹었다.\n",
            "나는 12개의 사과를 먹었다.\n"
          ]
        }
      ],
      "source": [
        "print('나는', 12 , '개의 사과를 먹었다.') #또는 \n",
        "\n",
        "print('나는 ' + str(12) +'개의 사과를 먹었다.') #문자형으로 바꾸는 str 함수를 사용한다."
      ]
    },
    {
      "cell_type": "markdown",
      "source": [
        "<pre>\n",
        "2번 문제\n",
        " 다음과 같은 수식을 계산하면 결과는 무엇인가?\n",
        "\n",
        "'apple'+'grape'\n",
        "'apple'*3"
      ],
      "metadata": {
        "id": "1ZUCBe2luMZp"
      }
    },
    {
      "cell_type": "code",
      "source": [
        "print('apple'+'grape') #문자열+문자열을 하면 합쳐진다.\n",
        "print('apple'*3) #문자열*숫자 를 하면 숫자만큼 문자열이 반복된다. (프린트 없어도 돌아감)"
      ],
      "metadata": {
        "colab": {
          "base_uri": "https://localhost:8080/"
        },
        "id": "ZT0ZqDlUub1Y",
        "outputId": "d9edf2f9-10a4-4c76-b4a7-35000c382032"
      },
      "execution_count": null,
      "outputs": [
        {
          "output_type": "stream",
          "name": "stdout",
          "text": [
            "applegrape\n",
            "appleappleapple\n"
          ]
        }
      ]
    },
    {
      "cell_type": "markdown",
      "source": [
        "<pre>\n",
        "3번 문제\n",
        " 다음과 같이 사용자가 입력한 문자열 중에서 처음 2글자와 마지막 2글자를 \n",
        "추출한 후에 이들을 합쳐서 출력해보자.\n",
        "\n",
        "처음 2글자는 s[0:2]로 추출할 수 있다.\n",
        "마지막 2글자는 s[-2:]로 추출 가능하다."
      ],
      "metadata": {
        "id": "sKtOPC-Mu9Pu"
      }
    },
    {
      "cell_type": "code",
      "source": [
        "S= input(\"문자열을 입력하시오: \")\n",
        "S = S[0:2] + S[-2:]\n",
        "print(S)"
      ],
      "metadata": {
        "colab": {
          "base_uri": "https://localhost:8080/"
        },
        "id": "wymeggnnvG7E",
        "outputId": "eb85675c-6142-4e88-dfc6-cc424f650902"
      },
      "execution_count": 2,
      "outputs": [
        {
          "output_type": "stream",
          "name": "stdout",
          "text": [
            "문자열을 입력하시오: python\n",
            "pyon\n"
          ]
        }
      ]
    },
    {
      "cell_type": "markdown",
      "source": [
        "<pre>\n",
        "4번 문제\n",
        " 다음과 같이 사용자가 입력한 문자열 뒤에 \n",
        "항상 \"하는 중\"을 붙이는 프로그램을 작성해보자."
      ],
      "metadata": {
        "id": "Q7IWSNN-xmP3"
      }
    },
    {
      "cell_type": "code",
      "source": [
        "s= input(\"문자열을 입력하시오: \")\n",
        "s=s+\"하는 중\"  #또는 += 사용, 기존에 사용하던 변수에 +=로 값을 대체/리스트를 합칠 때도 사용 \n",
        "print(s)"
      ],
      "metadata": {
        "colab": {
          "base_uri": "https://localhost:8080/"
        },
        "id": "mCGcyqUix3Ja",
        "outputId": "8e6463e8-8fa0-43b9-d646-fa85696689c3"
      },
      "execution_count": null,
      "outputs": [
        {
          "output_type": "stream",
          "name": "stdout",
          "text": [
            "문자열을 입력하시오: 청소\n",
            "청소하는 중\n"
          ]
        }
      ]
    },
    {
      "cell_type": "markdown",
      "source": [
        "<pre>\n",
        "5번 문제\n",
        " 사용자가 입력한 기호 안에 문자열을 삽입하려면 어떻게 해야 하는가? \n",
        "기호는 문자 2개로 이루어져있다고 가정한다.\n"
      ],
      "metadata": {
        "id": "4FIJSKQTyrXp"
      }
    },
    {
      "cell_type": "code",
      "source": [
        "_str_=input(\"기호를 입력하시오: \") #본래는 대문자 s를 변수로 사용하는 게, 앞에 언더바 붙여서 그냥 쓰고 있음\n",
        "word=input(\"중간에 삽입할 문자열을 입력하시오: \")\n",
        "s=_str_[:1] + word + _str_[1:]\n",
        "print(s)"
      ],
      "metadata": {
        "id": "tBCq3Clvy15H",
        "colab": {
          "base_uri": "https://localhost:8080/"
        },
        "outputId": "0e5e835a-ca86-4f95-adad-1bb2e08ee5fc"
      },
      "execution_count": null,
      "outputs": [
        {
          "output_type": "stream",
          "name": "stdout",
          "text": [
            "기호를 입력하시오: [ ]\n",
            "중간에 삽입할 문자열을 입력하시오: python\n",
            "[python ]\n"
          ]
        }
      ]
    },
    {
      "cell_type": "markdown",
      "source": [
        "<pre>\n",
        "6번 문제\n",
        " 4개의 숫자가 들어 있는 리스트가 있다.\n",
        "리스트 안의 숫자들을 꺼내서 합계를 계산하여 \n",
        "출력하는 프로그램을 작성하라. 반복문은 사용하지 않는다. \n",
        "리스트의 길이는 항상 4라고 가정한다."
      ],
      "metadata": {
        "id": "TW--kE3Yy-5H"
      }
    },
    {
      "cell_type": "code",
      "source": [
        "lista = [1, 2, 3, 4]\n",
        "sum = 0\n",
        "sum = lista[0] + lista[1] + lista[2] + lista[3]\n",
        "print(\"리스트 = \", lista)\n",
        "print(\"리스트 숫자들의 합 = \", sum)"
      ],
      "metadata": {
        "id": "LbXwEKtnia38",
        "colab": {
          "base_uri": "https://localhost:8080/"
        },
        "outputId": "87bb4c51-6697-445e-f319-12a4365599bf"
      },
      "execution_count": null,
      "outputs": [
        {
          "output_type": "stream",
          "name": "stdout",
          "text": [
            "리스트 =  [1, 2, 3, 4]\n",
            "리스트 숫자들의 합 =  10\n"
          ]
        }
      ]
    },
    {
      "cell_type": "markdown",
      "source": [
        "<pre>\n",
        "7번 문제\n",
        " 사용자가 입력하는 3가지 색상을 리스트에 저장하였다가 하나씩 꺼내서 \n",
        "그 색상으로 채워진 원을 그리는 프로그램을 작성해보자. \n",
        "반복문은 사용하지 않는다. 채워진 원을 그리면 다음과 같은 문장들을 사용한다.\n",
        "\n",
        "t.fiⅡcoIor(¨yeⅡow \") # 채워지는 색샹을 지정한다.\n",
        "t.begin_fill() # 채우기를 시작한다.\n",
        "t.circIe(50) # 채워진 원을 그린다.\n",
        "t.end_fill() # 채우기를 종료한다.\n"
      ],
      "metadata": {
        "id": "q8ND9VtAzMrj"
      }
    },
    {
      "cell_type": "code",
      "source": [
        "import turtle\n",
        "t = turtle.Turtle()\n",
        "t.shape(\"turtle\")\n",
        "\n",
        "lista = [ ]\n",
        "color = input(\"색상 #1을 입력하시오: \")\n",
        "색상 #1을 입력하시오: red\n",
        "lista.append(color)\n",
        "color = input(\"색상 #2을 입력하시오: \")\n",
        "색상 #2을 입력하시오: blue\n",
        "lista.append(color)\n",
        "color = input(\"색상 #3을 입력하시오: \")\n",
        "색상 #3을 입력하시오: black\n",
        "lista.append(color)\n",
        "\n",
        "t.fillcolor(lista[0])\n",
        "t.begin_fill()\n",
        "t.circle(50)\n",
        "t.end_fill() #첫번째로 입력한 red 색의 원이 그려지게 됨\n",
        "\n",
        "t.up()\n",
        "t.goto(100, 0)\n",
        "t.down()\n",
        "t.fillcolor(lista[1])\n",
        "t.begin_fill()\n",
        "t.circle(50) \n",
        "t.end_fill() #두번째로 입력한 blue 색의 원이 그려지게 됨\n",
        "\n",
        "t.up()\n",
        "t.goto(200, 0)\n",
        "t.down()\n",
        "t.fillcolor(lista[2])\n",
        "t.begin_fill()\n",
        "t.circle(50)\n",
        "t.end_fill() # 세번째로 입력한 black 색의 원이 그려지게 됨\n",
        "t._screen.exitonclick()  #비주얼 스튜디오의 경우 추가하기\n"
      ],
      "metadata": {
        "id": "ABoW5pfJihro"
      },
      "execution_count": null,
      "outputs": []
    },
    {
      "cell_type": "markdown",
      "source": [
        "<pre>\n",
        "8번 문제\n",
        " 사용자가 입력하는 3개의 좌표 (x,y)를 리스트에 저장한다. \n",
        "이들 좌표를 꺼내서 거북이를 이동하는 프로그램을 작성해보자.\n",
        "\n",
        "t.goto(list[0], list[1]) 과 같이 호출한다."
      ],
      "metadata": {
        "id": "n0s7bfQDzXXV"
      }
    },
    {
      "cell_type": "code",
      "source": [
        "import turtle\n",
        "t = turtle.Turtle()\n",
        "t.shape(\"turtle\")\n",
        "\n",
        "lista.append(int(input(\"x1 :\")))\n",
        "x1 :0\n",
        "lista.append(int(input(\"y1 :\")))\n",
        "y1 :0\n",
        "lista.append(int(input(\"x2 :\")))\n",
        "x2 :100\n",
        "lista.append(int(input(\"y2 :\")))\n",
        "y2 :100\n",
        "lista.append(int(input(\"x3 :\")))\n",
        "x3 :200\n",
        "lista.append(int(input(\"y3 :\")))\n",
        "y3 :100\n",
        "\n",
        "t.goto(lista[0], lista[1]) #x1->y1\n",
        "t.goto(lista[2], lista[3]) #x2->y2\n",
        "t.goto(lista[4], lista[5]) #x3->y3\n",
        "t._screen.exitonclick()   #비주얼 스튜디오 코드의 경우 클릭 시에 종료되도록 하는 부분"
      ],
      "metadata": {
        "id": "Pp-rjjuTilHI"
      },
      "execution_count": null,
      "outputs": []
    }
  ]
}